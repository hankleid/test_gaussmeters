{
 "cells": [
  {
   "cell_type": "markdown",
   "metadata": {},
   "source": [
    "**This file 1) shows the magnetic field as measured by the two Gaussmeters, 2) calculates the error between the theoretical magnetic field (via hardware controls) & the field measured by the Gaussmeters.**\n",
    "\n",
    "*If the percentage error is large, check to make sure the Hall probes are working correctly.*"
   ]
  },
  {
   "cell_type": "code",
   "execution_count": 92,
   "metadata": {},
   "outputs": [],
   "source": [
    "import numpy as np\n",
    "import matplotlib.pyplot as plt"
   ]
  },
  {
   "cell_type": "code",
   "execution_count": 147,
   "metadata": {},
   "outputs": [],
   "source": [
    "# READ IN THE GAUSSMETER MEASUREMENTS"
   ]
  },
  {
   "cell_type": "code",
   "execution_count": 158,
   "metadata": {},
   "outputs": [
    {
     "data": {
      "image/png": "[encoded data removed]",
      "text/plain": [
       "<Figure size 432x288 with 1 Axes>"
      ]
     },
     "metadata": {
      "needs_background": "light"
     },
     "output_type": "display_data"
    },
    {
     "name": "stdout",
     "output_type": "stream",
     "text": [
      "X: 50.0\n",
      "Y: 50.0\n",
      "Net Magnitude: 70.71067811865476\n",
      "Angle: 45.0\n"
     ]
    }
   ],
   "source": [
    "# READ IN THE HARDWARE CONTROLS\n",
    "\n",
    "x = 0.0\n",
    "y = 0.0\n",
    "with open(\"x-axis.txt\", \"r\") as xaxis:\n",
    "    x = float(xaxis.read())\n",
    "with open(\"y-axis.txt\", \"r\") as yaxis:\n",
    "    y = float(yaxis.read())   \n",
    "\n",
    "    \n",
    "# PLOT X COMP, Y COMP, and NET MAGNITUDE VEC\n",
    "# (Gaussmeter)\n",
    "\n",
    "origin = [0], [0]\n",
    "vectors = np.array([[x, 0], [0, y], [x, y]])\n",
    "maxi = max(x, y)\n",
    "plt.quiver(*origin, vectors[:,0], vectors[:,1], \n",
    "           color=['lightblue','pink','black'], \n",
    "           scale=maxi*3)\n",
    "plt.axis([-x*2, x*2, -y*2, y*2])\n",
    "plt.show()\n",
    "\n",
    "\n",
    "# PRINT DATA\n",
    "\n",
    "norm = np.linalg.norm([x, y])\n",
    "print(\"X: \" + str(x))\n",
    "print(\"Y: \" + str(y))\n",
    "print(\"Net Magnitude: \" + str(norm))\n",
    "print(\"Angle: \" + str(np.arctan(y/x) * 180 / np.pi))"
   ]
  }
 ],
 "metadata": {
  "kernelspec": {
   "display_name": "Python 3",
   "language": "python",
   "name": "python3"
  },
  "language_info": {
   "codemirror_mode": {
    "name": "ipython",
    "version": 3
   },
   "file_extension": ".py",
   "mimetype": "text/x-python",
   "name": "python",
   "nbconvert_exporter": "python",
   "pygments_lexer": "ipython3",
   "version": "3.7.4"
  }
 },
 "nbformat": 4,
 "nbformat_minor": 2
}
